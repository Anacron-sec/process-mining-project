{
 "cells": [
  {
   "cell_type": "markdown",
   "metadata": {},
   "source": [
    "# BPI Challenge 2018"
   ]
  },
  {
   "cell_type": "code",
   "execution_count": 1,
   "metadata": {},
   "outputs": [],
   "source": [
    "import pandas as pd\n",
    "from datetime import datetime"
   ]
  },
  {
   "cell_type": "markdown",
   "metadata": {},
   "source": [
    "## Understanding the problem of undesidered outcomes"
   ]
  },
  {
   "cell_type": "markdown",
   "metadata": {},
   "source": [
    "A case is opened usually in May and should be closed by end of the year.\n",
    "\n",
    "When this doesn't happen we have an undesidered outcome which could be:\n",
    "- **Undesidered outcome 1**: The payment is late. A payment can be considered timely, if there has been a “begin payment” activity by the end of the year that was not eventually followed by “abort payment”. \n",
    "- **Undesidered outcome 2**:  The case needs to be reopened, either by the department (subprocess “Change”) or due to a legal objection by the applicant (subprocess “Objection”). This may result in additional payments or reimbursements (“payment_actual{x}“ > 0, where x ≥ 1 refers to the xth payment after the initial one) \n",
    "\n",
    "The business **question** given is the following:  \n",
    "We would like to detect such cases as early as possible. Ideally, this should happen before a decision is made for this case (first occurrence of “Payment application+application+decide”). You may use data from previous years to make predictions for the current year\n",
    "\n",
    "Also it would be interesting to analyze the differences beetwen years and the various departmens (as of the last two business questions)"
   ]
  },
  {
   "cell_type": "markdown",
   "metadata": {},
   "source": [
    "## Process discovery and analysis"
   ]
  },
  {
   "cell_type": "markdown",
   "metadata": {},
   "source": [
    "We will first perform process mining on the application payment logs to have an overview of the process and analyze it to get some insight about the task at hand.\n",
    "\n",
    "The software we will be using is *Fluxicon Disco*"
   ]
  },
  {
   "cell_type": "markdown",
   "metadata": {},
   "source": [
    "![pa1](../img/pa_1.png)"
   ]
  },
  {
   "cell_type": "markdown",
   "metadata": {},
   "source": [
    "This is the payment application process of the entire log using 100% of activities ad paths setting set at 2%.\n",
    "It is a little bit daunting and we don't need every detail of the process, we already know our business question so we need to filter it a little bit to have a clearer understanding."
   ]
  },
  {
   "cell_type": "markdown",
   "metadata": {},
   "source": [
    "Prior to simplifying the process we can take a look at some of the statistics of this log:"
   ]
  },
  {
   "cell_type": "markdown",
   "metadata": {},
   "source": [
    "![me_1](../img/me_1.png)"
   ]
  },
  {
   "cell_type": "markdown",
   "metadata": {},
   "source": [
    "This is the distribution of the events, the peaks we can observe are mainly from October to December of each year."
   ]
  },
  {
   "cell_type": "markdown",
   "metadata": {},
   "source": [
    "![me_2](../img/me_2.png)"
   ]
  },
  {
   "cell_type": "markdown",
   "metadata": {},
   "source": [
    "This is the active cases graph, most of the cases start around May/June and end in December, but as we can see there are some residual events every year."
   ]
  },
  {
   "cell_type": "markdown",
   "metadata": {},
   "source": [
    "![me_3](../img/me_3.png)"
   ]
  },
  {
   "cell_type": "markdown",
   "metadata": {},
   "source": [
    "Most of the cases require less than a year in total. The mean case duration is 43 weeks.\n",
    "These are the total event log statistics:"
   ]
  },
  {
   "cell_type": "markdown",
   "metadata": {},
   "source": [
    "![me_4](../img/me_4.png)"
   ]
  },
  {
   "cell_type": "markdown",
   "metadata": {},
   "source": [
    "Before filtering the log to obtain an easier to grasp process map it could be useful to have at least an overview of the whole process."
   ]
  },
  {
   "cell_type": "markdown",
   "metadata": {},
   "source": [
    "![pa_3](../img/pa_3.png)"
   ]
  },
  {
   "cell_type": "markdown",
   "metadata": {},
   "source": [
    "The red arrows point to the Payment application-application part of the map, that is the most frequent activities.\n",
    "This is supported by setting the color schema to represent *Case frequency*, we can clearly see that all the darker coloured ones are part of this group (The darker the color the more frequent the activity)"
   ]
  },
  {
   "cell_type": "markdown",
   "metadata": {},
   "source": [
    "![pa_4](../img/pa_4.png)"
   ]
  },
  {
   "cell_type": "markdown",
   "metadata": {},
   "source": [
    "These are the activities regarding *Objections*, they are useful in the understanding of Undesidered outcome 2."
   ]
  },
  {
   "cell_type": "markdown",
   "metadata": {},
   "source": [
    "![pa_5](../img/pa_5.png)"
   ]
  },
  {
   "cell_type": "markdown",
   "metadata": {},
   "source": [
    "These are the activities relative to the *Change* subprocess that are also useful in the study of Undesidered outcome 2. \n",
    "The remaining cells are relative to *Main* subprocess."
   ]
  },
  {
   "cell_type": "markdown",
   "metadata": {},
   "source": [
    "Now we can proceed with filtering, so let's recap what we absolutely need in our process map:\n",
    "- Begin payment, for the study of undesidered outcome 1\n",
    "- Abort payment, for the study of undesidered outcome 1\n",
    "- Subprocess Change, for the study of undesidered outcome 2\n",
    "- Subprocess Objection, for the study of undesidered outcome 2"
   ]
  },
  {
   "cell_type": "markdown",
   "metadata": {},
   "source": [
    "Mantaining 100% of cases and filtering activities we don't need this seems like a good compromise of a process map for understanding."
   ]
  },
  {
   "cell_type": "markdown",
   "metadata": {},
   "source": [
    "![map](../img/pa_2.png)"
   ]
  },
  {
   "cell_type": "markdown",
   "metadata": {},
   "source": [
    "Below every path frequency are included also the average duration of the activity to the next. The most notable is that from begin Payment to Change initialize there is an average long transition time."
   ]
  },
  {
   "cell_type": "markdown",
   "metadata": {},
   "source": [
    "## Tackling the problem"
   ]
  },
  {
   "cell_type": "markdown",
   "metadata": {},
   "source": [
    "The first thing we need to do is to engineer the dataset of the payment applications to find out the labels of our undesidered outcomes."
   ]
  },
  {
   "cell_type": "code",
   "execution_count": 2,
   "metadata": {},
   "outputs": [],
   "source": [
    "df = pd.read_csv('../data/Payment application.csv')"
   ]
  },
  {
   "cell_type": "markdown",
   "metadata": {},
   "source": [
    "Now that we loaded the data we can take a peek to think what we can do next"
   ]
  },
  {
   "cell_type": "code",
   "execution_count": 3,
   "metadata": {},
   "outputs": [
    {
     "data": {
      "text/html": [
       "<div>\n",
       "<style scoped>\n",
       "    .dataframe tbody tr th:only-of-type {\n",
       "        vertical-align: middle;\n",
       "    }\n",
       "\n",
       "    .dataframe tbody tr th {\n",
       "        vertical-align: top;\n",
       "    }\n",
       "\n",
       "    .dataframe thead th {\n",
       "        text-align: right;\n",
       "    }\n",
       "</style>\n",
       "<table border=\"1\" class=\"dataframe\">\n",
       "  <thead>\n",
       "    <tr style=\"text-align: right;\">\n",
       "      <th></th>\n",
       "      <th>Case ID</th>\n",
       "      <th>Activity</th>\n",
       "      <th>Resource</th>\n",
       "      <th>Complete Timestamp</th>\n",
       "      <th>Variant</th>\n",
       "      <th>Variant index</th>\n",
       "      <th>(case) amount_applied0</th>\n",
       "      <th>(case) amount_applied1</th>\n",
       "      <th>(case) amount_applied2</th>\n",
       "      <th>(case) amount_applied3</th>\n",
       "      <th>...</th>\n",
       "      <th>(case) young farmer</th>\n",
       "      <th>activity</th>\n",
       "      <th>concept:name</th>\n",
       "      <th>docid</th>\n",
       "      <th>doctype</th>\n",
       "      <th>eventid</th>\n",
       "      <th>lifecycle:transition</th>\n",
       "      <th>note</th>\n",
       "      <th>subprocess</th>\n",
       "      <th>success</th>\n",
       "    </tr>\n",
       "  </thead>\n",
       "  <tbody>\n",
       "    <tr>\n",
       "      <td>0</td>\n",
       "      <td>-18008611495569447</td>\n",
       "      <td>Payment application-Application-mail income</td>\n",
       "      <td>0;n/a</td>\n",
       "      <td>2015/05/08 00:00:00.000</td>\n",
       "      <td>Variant 8</td>\n",
       "      <td>8</td>\n",
       "      <td>960.35</td>\n",
       "      <td>NaN</td>\n",
       "      <td>NaN</td>\n",
       "      <td>NaN</td>\n",
       "      <td>...</td>\n",
       "      <td>False</td>\n",
       "      <td>mail income</td>\n",
       "      <td>mail income</td>\n",
       "      <td>-18008611495569447</td>\n",
       "      <td>Payment application</td>\n",
       "      <td>NaN</td>\n",
       "      <td>complete</td>\n",
       "      <td>none</td>\n",
       "      <td>Application</td>\n",
       "      <td>True</td>\n",
       "    </tr>\n",
       "    <tr>\n",
       "      <td>1</td>\n",
       "      <td>-18008611495569447</td>\n",
       "      <td>Payment application-Application-mail valid</td>\n",
       "      <td>0;n/a</td>\n",
       "      <td>2015/05/08 00:00:00.000</td>\n",
       "      <td>Variant 8</td>\n",
       "      <td>8</td>\n",
       "      <td>960.35</td>\n",
       "      <td>NaN</td>\n",
       "      <td>NaN</td>\n",
       "      <td>NaN</td>\n",
       "      <td>...</td>\n",
       "      <td>False</td>\n",
       "      <td>mail valid</td>\n",
       "      <td>mail valid</td>\n",
       "      <td>-18008611495569447</td>\n",
       "      <td>Payment application</td>\n",
       "      <td>NaN</td>\n",
       "      <td>complete</td>\n",
       "      <td>none</td>\n",
       "      <td>Application</td>\n",
       "      <td>True</td>\n",
       "    </tr>\n",
       "    <tr>\n",
       "      <td>2</td>\n",
       "      <td>-18008611495569447</td>\n",
       "      <td>Payment application-Application-initialize</td>\n",
       "      <td>Document processing automaton</td>\n",
       "      <td>2015/11/06 11:21:27.376</td>\n",
       "      <td>Variant 8</td>\n",
       "      <td>8</td>\n",
       "      <td>960.35</td>\n",
       "      <td>NaN</td>\n",
       "      <td>NaN</td>\n",
       "      <td>NaN</td>\n",
       "      <td>...</td>\n",
       "      <td>False</td>\n",
       "      <td>initialize</td>\n",
       "      <td>initialize</td>\n",
       "      <td>-18008611495569447</td>\n",
       "      <td>Payment application</td>\n",
       "      <td>-1.800861e+16</td>\n",
       "      <td>complete</td>\n",
       "      <td>none</td>\n",
       "      <td>Application</td>\n",
       "      <td>True</td>\n",
       "    </tr>\n",
       "    <tr>\n",
       "      <td>3</td>\n",
       "      <td>-18008611495569447</td>\n",
       "      <td>Payment application-Application-begin editing</td>\n",
       "      <td>727350</td>\n",
       "      <td>2015/11/10 17:17:50.045</td>\n",
       "      <td>Variant 8</td>\n",
       "      <td>8</td>\n",
       "      <td>960.35</td>\n",
       "      <td>NaN</td>\n",
       "      <td>NaN</td>\n",
       "      <td>NaN</td>\n",
       "      <td>...</td>\n",
       "      <td>False</td>\n",
       "      <td>begin editing</td>\n",
       "      <td>begin editing</td>\n",
       "      <td>-18008611495569447</td>\n",
       "      <td>Payment application</td>\n",
       "      <td>-1.080806e+17</td>\n",
       "      <td>complete</td>\n",
       "      <td>automatic</td>\n",
       "      <td>Application</td>\n",
       "      <td>True</td>\n",
       "    </tr>\n",
       "    <tr>\n",
       "      <td>4</td>\n",
       "      <td>-18008611495569447</td>\n",
       "      <td>Payment application-Application-calculate</td>\n",
       "      <td>727350</td>\n",
       "      <td>2015/11/10 17:17:57.085</td>\n",
       "      <td>Variant 8</td>\n",
       "      <td>8</td>\n",
       "      <td>960.35</td>\n",
       "      <td>NaN</td>\n",
       "      <td>NaN</td>\n",
       "      <td>NaN</td>\n",
       "      <td>...</td>\n",
       "      <td>False</td>\n",
       "      <td>calculate</td>\n",
       "      <td>calculate</td>\n",
       "      <td>-18008611495569447</td>\n",
       "      <td>Payment application</td>\n",
       "      <td>-1.080806e+17</td>\n",
       "      <td>complete</td>\n",
       "      <td>automatic</td>\n",
       "      <td>Application</td>\n",
       "      <td>True</td>\n",
       "    </tr>\n",
       "  </tbody>\n",
       "</table>\n",
       "<p>5 rows × 75 columns</p>\n",
       "</div>"
      ],
      "text/plain": [
       "             Case ID                                       Activity  \\\n",
       "0 -18008611495569447    Payment application-Application-mail income   \n",
       "1 -18008611495569447     Payment application-Application-mail valid   \n",
       "2 -18008611495569447     Payment application-Application-initialize   \n",
       "3 -18008611495569447  Payment application-Application-begin editing   \n",
       "4 -18008611495569447      Payment application-Application-calculate   \n",
       "\n",
       "                        Resource       Complete Timestamp    Variant  \\\n",
       "0                          0;n/a  2015/05/08 00:00:00.000  Variant 8   \n",
       "1                          0;n/a  2015/05/08 00:00:00.000  Variant 8   \n",
       "2  Document processing automaton  2015/11/06 11:21:27.376  Variant 8   \n",
       "3                         727350  2015/11/10 17:17:50.045  Variant 8   \n",
       "4                         727350  2015/11/10 17:17:57.085  Variant 8   \n",
       "\n",
       "   Variant index  (case) amount_applied0  (case) amount_applied1  \\\n",
       "0              8                  960.35                     NaN   \n",
       "1              8                  960.35                     NaN   \n",
       "2              8                  960.35                     NaN   \n",
       "3              8                  960.35                     NaN   \n",
       "4              8                  960.35                     NaN   \n",
       "\n",
       "   (case) amount_applied2  (case) amount_applied3  ... (case) young farmer  \\\n",
       "0                     NaN                     NaN  ...               False   \n",
       "1                     NaN                     NaN  ...               False   \n",
       "2                     NaN                     NaN  ...               False   \n",
       "3                     NaN                     NaN  ...               False   \n",
       "4                     NaN                     NaN  ...               False   \n",
       "\n",
       "        activity   concept:name              docid              doctype  \\\n",
       "0    mail income    mail income -18008611495569447  Payment application   \n",
       "1     mail valid     mail valid -18008611495569447  Payment application   \n",
       "2     initialize     initialize -18008611495569447  Payment application   \n",
       "3  begin editing  begin editing -18008611495569447  Payment application   \n",
       "4      calculate      calculate -18008611495569447  Payment application   \n",
       "\n",
       "        eventid  lifecycle:transition       note   subprocess  success  \n",
       "0           NaN              complete       none  Application     True  \n",
       "1           NaN              complete       none  Application     True  \n",
       "2 -1.800861e+16              complete       none  Application     True  \n",
       "3 -1.080806e+17              complete  automatic  Application     True  \n",
       "4 -1.080806e+17              complete  automatic  Application     True  \n",
       "\n",
       "[5 rows x 75 columns]"
      ]
     },
     "execution_count": 3,
     "metadata": {},
     "output_type": "execute_result"
    }
   ],
   "source": [
    "df.head()"
   ]
  },
  {
   "cell_type": "markdown",
   "metadata": {},
   "source": [
    "## Undesidered outcomes 1"
   ]
  },
  {
   "cell_type": "markdown",
   "metadata": {},
   "source": [
    "To find out our undesidered outcomes 1 we just need 3 activities for each case: Application initialize, Begin payment and abort payment.\n",
    "A payment is late basically if the last activity is not a begin payment (So an abort or just initialized) or it is a begin payment but from a different year than the case year"
   ]
  },
  {
   "cell_type": "code",
   "execution_count": 4,
   "metadata": {},
   "outputs": [],
   "source": [
    "uo1_code = \"\"\"\n",
    "activities = ['Payment application-Application-initialize', 'Payment application-Application-begin payment', 'Payment application-Application-abort payment']\n",
    "\n",
    "df_prepared = df[df['Activity'].isin(activities)]\n",
    "\n",
    "cases = df_prepared['Case ID'].unique()\n",
    "\n",
    "uo1_list = []\n",
    "\n",
    "for case in cases:\n",
    "    is_late = False\n",
    "    \n",
    "    case_df = df_prepared[df_prepared['Case ID'] == case]\n",
    "    last_activity = case_df.tail(1)\n",
    "    \n",
    "    if last_activity['Activity'].item() != 'Payment application-Application-begin payment':\n",
    "        # Last activity is initialize or abort payment\n",
    "        is_late = True\n",
    "    else:\n",
    "        payment_dt = datetime.strptime(last_activity['Complete Timestamp'].item(), '%Y/%m/%d %H:%M:%S.%f')\n",
    "        case_year = last_activity['(case) year']\n",
    "        if payment_dt.year > case_year.item():\n",
    "            is_late = True\n",
    "        \n",
    "    uo1_list.append((case, is_late))\n",
    "    \n",
    "uo1_df = pd.DataFrame(uo1_list, columns=['Case ID', 'Late Payment'])\n",
    "\n",
    "uo1_df.to_csv('../data/uo1.csv', index=False)\n",
    "\"\"\""
   ]
  },
  {
   "cell_type": "code",
   "execution_count": 5,
   "metadata": {},
   "outputs": [],
   "source": [
    "uo1_df = pd.read_csv('../data/uo1.csv')"
   ]
  },
  {
   "cell_type": "markdown",
   "metadata": {},
   "source": [
    "Then we can merge this with our dataset and perform the last tweakings to create a machine learning ready dataset"
   ]
  },
  {
   "cell_type": "code",
   "execution_count": 6,
   "metadata": {},
   "outputs": [
    {
     "data": {
      "text/html": [
       "<div>\n",
       "<style scoped>\n",
       "    .dataframe tbody tr th:only-of-type {\n",
       "        vertical-align: middle;\n",
       "    }\n",
       "\n",
       "    .dataframe tbody tr th {\n",
       "        vertical-align: top;\n",
       "    }\n",
       "\n",
       "    .dataframe thead th {\n",
       "        text-align: right;\n",
       "    }\n",
       "</style>\n",
       "<table border=\"1\" class=\"dataframe\">\n",
       "  <thead>\n",
       "    <tr style=\"text-align: right;\">\n",
       "      <th></th>\n",
       "      <th>Case ID</th>\n",
       "      <th>Activity</th>\n",
       "      <th>Resource</th>\n",
       "      <th>Complete Timestamp</th>\n",
       "      <th>Variant</th>\n",
       "      <th>Variant index</th>\n",
       "      <th>(case) amount_applied0</th>\n",
       "      <th>(case) amount_applied1</th>\n",
       "      <th>(case) amount_applied2</th>\n",
       "      <th>(case) amount_applied3</th>\n",
       "      <th>...</th>\n",
       "      <th>activity</th>\n",
       "      <th>concept:name</th>\n",
       "      <th>docid</th>\n",
       "      <th>doctype</th>\n",
       "      <th>eventid</th>\n",
       "      <th>lifecycle:transition</th>\n",
       "      <th>note</th>\n",
       "      <th>subprocess</th>\n",
       "      <th>success</th>\n",
       "      <th>Late Payment</th>\n",
       "    </tr>\n",
       "  </thead>\n",
       "  <tbody>\n",
       "    <tr>\n",
       "      <td>0</td>\n",
       "      <td>-18008611495569447</td>\n",
       "      <td>Payment application-Application-mail income</td>\n",
       "      <td>0;n/a</td>\n",
       "      <td>2015/05/08 00:00:00.000</td>\n",
       "      <td>Variant 8</td>\n",
       "      <td>8</td>\n",
       "      <td>960.35</td>\n",
       "      <td>NaN</td>\n",
       "      <td>NaN</td>\n",
       "      <td>NaN</td>\n",
       "      <td>...</td>\n",
       "      <td>mail income</td>\n",
       "      <td>mail income</td>\n",
       "      <td>-18008611495569447</td>\n",
       "      <td>Payment application</td>\n",
       "      <td>NaN</td>\n",
       "      <td>complete</td>\n",
       "      <td>none</td>\n",
       "      <td>Application</td>\n",
       "      <td>True</td>\n",
       "      <td>False</td>\n",
       "    </tr>\n",
       "    <tr>\n",
       "      <td>1</td>\n",
       "      <td>-18008611495569447</td>\n",
       "      <td>Payment application-Application-mail valid</td>\n",
       "      <td>0;n/a</td>\n",
       "      <td>2015/05/08 00:00:00.000</td>\n",
       "      <td>Variant 8</td>\n",
       "      <td>8</td>\n",
       "      <td>960.35</td>\n",
       "      <td>NaN</td>\n",
       "      <td>NaN</td>\n",
       "      <td>NaN</td>\n",
       "      <td>...</td>\n",
       "      <td>mail valid</td>\n",
       "      <td>mail valid</td>\n",
       "      <td>-18008611495569447</td>\n",
       "      <td>Payment application</td>\n",
       "      <td>NaN</td>\n",
       "      <td>complete</td>\n",
       "      <td>none</td>\n",
       "      <td>Application</td>\n",
       "      <td>True</td>\n",
       "      <td>False</td>\n",
       "    </tr>\n",
       "    <tr>\n",
       "      <td>2</td>\n",
       "      <td>-18008611495569447</td>\n",
       "      <td>Payment application-Application-initialize</td>\n",
       "      <td>Document processing automaton</td>\n",
       "      <td>2015/11/06 11:21:27.376</td>\n",
       "      <td>Variant 8</td>\n",
       "      <td>8</td>\n",
       "      <td>960.35</td>\n",
       "      <td>NaN</td>\n",
       "      <td>NaN</td>\n",
       "      <td>NaN</td>\n",
       "      <td>...</td>\n",
       "      <td>initialize</td>\n",
       "      <td>initialize</td>\n",
       "      <td>-18008611495569447</td>\n",
       "      <td>Payment application</td>\n",
       "      <td>-1.800861e+16</td>\n",
       "      <td>complete</td>\n",
       "      <td>none</td>\n",
       "      <td>Application</td>\n",
       "      <td>True</td>\n",
       "      <td>False</td>\n",
       "    </tr>\n",
       "    <tr>\n",
       "      <td>3</td>\n",
       "      <td>-18008611495569447</td>\n",
       "      <td>Payment application-Application-begin editing</td>\n",
       "      <td>727350</td>\n",
       "      <td>2015/11/10 17:17:50.045</td>\n",
       "      <td>Variant 8</td>\n",
       "      <td>8</td>\n",
       "      <td>960.35</td>\n",
       "      <td>NaN</td>\n",
       "      <td>NaN</td>\n",
       "      <td>NaN</td>\n",
       "      <td>...</td>\n",
       "      <td>begin editing</td>\n",
       "      <td>begin editing</td>\n",
       "      <td>-18008611495569447</td>\n",
       "      <td>Payment application</td>\n",
       "      <td>-1.080806e+17</td>\n",
       "      <td>complete</td>\n",
       "      <td>automatic</td>\n",
       "      <td>Application</td>\n",
       "      <td>True</td>\n",
       "      <td>False</td>\n",
       "    </tr>\n",
       "    <tr>\n",
       "      <td>4</td>\n",
       "      <td>-18008611495569447</td>\n",
       "      <td>Payment application-Application-calculate</td>\n",
       "      <td>727350</td>\n",
       "      <td>2015/11/10 17:17:57.085</td>\n",
       "      <td>Variant 8</td>\n",
       "      <td>8</td>\n",
       "      <td>960.35</td>\n",
       "      <td>NaN</td>\n",
       "      <td>NaN</td>\n",
       "      <td>NaN</td>\n",
       "      <td>...</td>\n",
       "      <td>calculate</td>\n",
       "      <td>calculate</td>\n",
       "      <td>-18008611495569447</td>\n",
       "      <td>Payment application</td>\n",
       "      <td>-1.080806e+17</td>\n",
       "      <td>complete</td>\n",
       "      <td>automatic</td>\n",
       "      <td>Application</td>\n",
       "      <td>True</td>\n",
       "      <td>False</td>\n",
       "    </tr>\n",
       "  </tbody>\n",
       "</table>\n",
       "<p>5 rows × 76 columns</p>\n",
       "</div>"
      ],
      "text/plain": [
       "             Case ID                                       Activity  \\\n",
       "0 -18008611495569447    Payment application-Application-mail income   \n",
       "1 -18008611495569447     Payment application-Application-mail valid   \n",
       "2 -18008611495569447     Payment application-Application-initialize   \n",
       "3 -18008611495569447  Payment application-Application-begin editing   \n",
       "4 -18008611495569447      Payment application-Application-calculate   \n",
       "\n",
       "                        Resource       Complete Timestamp    Variant  \\\n",
       "0                          0;n/a  2015/05/08 00:00:00.000  Variant 8   \n",
       "1                          0;n/a  2015/05/08 00:00:00.000  Variant 8   \n",
       "2  Document processing automaton  2015/11/06 11:21:27.376  Variant 8   \n",
       "3                         727350  2015/11/10 17:17:50.045  Variant 8   \n",
       "4                         727350  2015/11/10 17:17:57.085  Variant 8   \n",
       "\n",
       "   Variant index  (case) amount_applied0  (case) amount_applied1  \\\n",
       "0              8                  960.35                     NaN   \n",
       "1              8                  960.35                     NaN   \n",
       "2              8                  960.35                     NaN   \n",
       "3              8                  960.35                     NaN   \n",
       "4              8                  960.35                     NaN   \n",
       "\n",
       "   (case) amount_applied2  (case) amount_applied3  ...       activity  \\\n",
       "0                     NaN                     NaN  ...    mail income   \n",
       "1                     NaN                     NaN  ...     mail valid   \n",
       "2                     NaN                     NaN  ...     initialize   \n",
       "3                     NaN                     NaN  ...  begin editing   \n",
       "4                     NaN                     NaN  ...      calculate   \n",
       "\n",
       "    concept:name              docid              doctype       eventid  \\\n",
       "0    mail income -18008611495569447  Payment application           NaN   \n",
       "1     mail valid -18008611495569447  Payment application           NaN   \n",
       "2     initialize -18008611495569447  Payment application -1.800861e+16   \n",
       "3  begin editing -18008611495569447  Payment application -1.080806e+17   \n",
       "4      calculate -18008611495569447  Payment application -1.080806e+17   \n",
       "\n",
       "  lifecycle:transition       note   subprocess  success  Late Payment  \n",
       "0             complete       none  Application     True         False  \n",
       "1             complete       none  Application     True         False  \n",
       "2             complete       none  Application     True         False  \n",
       "3             complete  automatic  Application     True         False  \n",
       "4             complete  automatic  Application     True         False  \n",
       "\n",
       "[5 rows x 76 columns]"
      ]
     },
     "execution_count": 6,
     "metadata": {},
     "output_type": "execute_result"
    }
   ],
   "source": [
    "uo1_full_df = pd.merge(df , uo1_df, on='Case ID', how='left')\n",
    "uo1_full_df.head()"
   ]
  },
  {
   "cell_type": "markdown",
   "metadata": {},
   "source": [
    "Ok now we need to have a single row for each case (we will use just the case data for the prediction)"
   ]
  },
  {
   "cell_type": "code",
   "execution_count": 7,
   "metadata": {
    "scrolled": false
   },
   "outputs": [
    {
     "data": {
      "text/html": [
       "<div>\n",
       "<style scoped>\n",
       "    .dataframe tbody tr th:only-of-type {\n",
       "        vertical-align: middle;\n",
       "    }\n",
       "\n",
       "    .dataframe tbody tr th {\n",
       "        vertical-align: top;\n",
       "    }\n",
       "\n",
       "    .dataframe thead th {\n",
       "        text-align: right;\n",
       "    }\n",
       "</style>\n",
       "<table border=\"1\" class=\"dataframe\">\n",
       "  <thead>\n",
       "    <tr style=\"text-align: right;\">\n",
       "      <th></th>\n",
       "      <th>Case ID</th>\n",
       "      <th>Activity</th>\n",
       "      <th>Resource</th>\n",
       "      <th>Complete Timestamp</th>\n",
       "      <th>Variant</th>\n",
       "      <th>Variant index</th>\n",
       "      <th>(case) amount_applied0</th>\n",
       "      <th>(case) amount_applied1</th>\n",
       "      <th>(case) amount_applied2</th>\n",
       "      <th>(case) amount_applied3</th>\n",
       "      <th>...</th>\n",
       "      <th>activity</th>\n",
       "      <th>concept:name</th>\n",
       "      <th>docid</th>\n",
       "      <th>doctype</th>\n",
       "      <th>eventid</th>\n",
       "      <th>lifecycle:transition</th>\n",
       "      <th>note</th>\n",
       "      <th>subprocess</th>\n",
       "      <th>success</th>\n",
       "      <th>Late Payment</th>\n",
       "    </tr>\n",
       "  </thead>\n",
       "  <tbody>\n",
       "    <tr>\n",
       "      <td>0</td>\n",
       "      <td>-18008611495569447</td>\n",
       "      <td>Payment application-Application-mail income</td>\n",
       "      <td>0;n/a</td>\n",
       "      <td>2015/05/08 00:00:00.000</td>\n",
       "      <td>Variant 8</td>\n",
       "      <td>8</td>\n",
       "      <td>960.35</td>\n",
       "      <td>NaN</td>\n",
       "      <td>NaN</td>\n",
       "      <td>NaN</td>\n",
       "      <td>...</td>\n",
       "      <td>mail income</td>\n",
       "      <td>mail income</td>\n",
       "      <td>-18008611495569447</td>\n",
       "      <td>Payment application</td>\n",
       "      <td>NaN</td>\n",
       "      <td>complete</td>\n",
       "      <td>none</td>\n",
       "      <td>Application</td>\n",
       "      <td>True</td>\n",
       "      <td>False</td>\n",
       "    </tr>\n",
       "    <tr>\n",
       "      <td>16</td>\n",
       "      <td>-18008611496121228</td>\n",
       "      <td>Payment application-Application-mail income</td>\n",
       "      <td>0;n/a</td>\n",
       "      <td>2015/05/08 00:00:00.000</td>\n",
       "      <td>Variant 43</td>\n",
       "      <td>43</td>\n",
       "      <td>28192.23</td>\n",
       "      <td>NaN</td>\n",
       "      <td>NaN</td>\n",
       "      <td>NaN</td>\n",
       "      <td>...</td>\n",
       "      <td>mail income</td>\n",
       "      <td>mail income</td>\n",
       "      <td>-18008611496121228</td>\n",
       "      <td>Payment application</td>\n",
       "      <td>NaN</td>\n",
       "      <td>complete</td>\n",
       "      <td>none</td>\n",
       "      <td>Application</td>\n",
       "      <td>True</td>\n",
       "      <td>False</td>\n",
       "    </tr>\n",
       "    <tr>\n",
       "      <td>37</td>\n",
       "      <td>-18008611495675691</td>\n",
       "      <td>Payment application-Application-mail income</td>\n",
       "      <td>0;n/a</td>\n",
       "      <td>2015/05/13 00:00:00.000</td>\n",
       "      <td>Variant 2</td>\n",
       "      <td>2</td>\n",
       "      <td>6684.43</td>\n",
       "      <td>NaN</td>\n",
       "      <td>NaN</td>\n",
       "      <td>NaN</td>\n",
       "      <td>...</td>\n",
       "      <td>mail income</td>\n",
       "      <td>mail income</td>\n",
       "      <td>-18008611495675691</td>\n",
       "      <td>Payment application</td>\n",
       "      <td>NaN</td>\n",
       "      <td>complete</td>\n",
       "      <td>none</td>\n",
       "      <td>Application</td>\n",
       "      <td>True</td>\n",
       "      <td>False</td>\n",
       "    </tr>\n",
       "    <tr>\n",
       "      <td>52</td>\n",
       "      <td>-18008611495740979</td>\n",
       "      <td>Payment application-Application-mail income</td>\n",
       "      <td>0;n/a</td>\n",
       "      <td>2015/04/10 00:00:00.000</td>\n",
       "      <td>Variant 7</td>\n",
       "      <td>7</td>\n",
       "      <td>6684.43</td>\n",
       "      <td>NaN</td>\n",
       "      <td>NaN</td>\n",
       "      <td>NaN</td>\n",
       "      <td>...</td>\n",
       "      <td>mail income</td>\n",
       "      <td>mail income</td>\n",
       "      <td>-18008611495740979</td>\n",
       "      <td>Payment application</td>\n",
       "      <td>NaN</td>\n",
       "      <td>complete</td>\n",
       "      <td>none</td>\n",
       "      <td>Application</td>\n",
       "      <td>True</td>\n",
       "      <td>False</td>\n",
       "    </tr>\n",
       "    <tr>\n",
       "      <td>71</td>\n",
       "      <td>-18008611496156872</td>\n",
       "      <td>Payment application-Application-mail income</td>\n",
       "      <td>0;n/a</td>\n",
       "      <td>2015/04/24 00:00:00.000</td>\n",
       "      <td>Variant 70</td>\n",
       "      <td>70</td>\n",
       "      <td>43403.12</td>\n",
       "      <td>NaN</td>\n",
       "      <td>NaN</td>\n",
       "      <td>NaN</td>\n",
       "      <td>...</td>\n",
       "      <td>mail income</td>\n",
       "      <td>mail income</td>\n",
       "      <td>-18008611496156872</td>\n",
       "      <td>Payment application</td>\n",
       "      <td>NaN</td>\n",
       "      <td>complete</td>\n",
       "      <td>none</td>\n",
       "      <td>Application</td>\n",
       "      <td>True</td>\n",
       "      <td>False</td>\n",
       "    </tr>\n",
       "  </tbody>\n",
       "</table>\n",
       "<p>5 rows × 76 columns</p>\n",
       "</div>"
      ],
      "text/plain": [
       "              Case ID                                     Activity Resource  \\\n",
       "0  -18008611495569447  Payment application-Application-mail income    0;n/a   \n",
       "16 -18008611496121228  Payment application-Application-mail income    0;n/a   \n",
       "37 -18008611495675691  Payment application-Application-mail income    0;n/a   \n",
       "52 -18008611495740979  Payment application-Application-mail income    0;n/a   \n",
       "71 -18008611496156872  Payment application-Application-mail income    0;n/a   \n",
       "\n",
       "         Complete Timestamp     Variant  Variant index  \\\n",
       "0   2015/05/08 00:00:00.000   Variant 8              8   \n",
       "16  2015/05/08 00:00:00.000  Variant 43             43   \n",
       "37  2015/05/13 00:00:00.000   Variant 2              2   \n",
       "52  2015/04/10 00:00:00.000   Variant 7              7   \n",
       "71  2015/04/24 00:00:00.000  Variant 70             70   \n",
       "\n",
       "    (case) amount_applied0  (case) amount_applied1  (case) amount_applied2  \\\n",
       "0                   960.35                     NaN                     NaN   \n",
       "16                28192.23                     NaN                     NaN   \n",
       "37                 6684.43                     NaN                     NaN   \n",
       "52                 6684.43                     NaN                     NaN   \n",
       "71                43403.12                     NaN                     NaN   \n",
       "\n",
       "    (case) amount_applied3  ...     activity concept:name              docid  \\\n",
       "0                      NaN  ...  mail income  mail income -18008611495569447   \n",
       "16                     NaN  ...  mail income  mail income -18008611496121228   \n",
       "37                     NaN  ...  mail income  mail income -18008611495675691   \n",
       "52                     NaN  ...  mail income  mail income -18008611495740979   \n",
       "71                     NaN  ...  mail income  mail income -18008611496156872   \n",
       "\n",
       "                doctype  eventid lifecycle:transition  note   subprocess  \\\n",
       "0   Payment application      NaN             complete  none  Application   \n",
       "16  Payment application      NaN             complete  none  Application   \n",
       "37  Payment application      NaN             complete  none  Application   \n",
       "52  Payment application      NaN             complete  none  Application   \n",
       "71  Payment application      NaN             complete  none  Application   \n",
       "\n",
       "    success  Late Payment  \n",
       "0      True         False  \n",
       "16     True         False  \n",
       "37     True         False  \n",
       "52     True         False  \n",
       "71     True         False  \n",
       "\n",
       "[5 rows x 76 columns]"
      ]
     },
     "execution_count": 7,
     "metadata": {},
     "output_type": "execute_result"
    }
   ],
   "source": [
    "uo1_full_unique_df = uo1_full_df.drop_duplicates(subset='Case ID')\n",
    "uo1_full_unique_df.head()"
   ]
  },
  {
   "cell_type": "markdown",
   "metadata": {},
   "source": [
    "Now we need to get rid of the useless columns, without doubt we should get rid of the activity related columns using the reported ones in the BPI challenge."
   ]
  },
  {
   "cell_type": "code",
   "execution_count": 8,
   "metadata": {
    "scrolled": false
   },
   "outputs": [
    {
     "data": {
      "text/plain": [
       "Index(['Case ID', 'Activity', 'Resource', 'Complete Timestamp', 'Variant',\n",
       "       'Variant index', '(case) amount_applied0', '(case) amount_applied1',\n",
       "       '(case) amount_applied2', '(case) amount_applied3', '(case) applicant',\n",
       "       '(case) application', '(case) area', '(case) basic payment',\n",
       "       '(case) cross_compliance', '(case) department', '(case) greening',\n",
       "       '(case) number_parcels', '(case) payment_actual0',\n",
       "       '(case) payment_actual1', '(case) payment_actual2',\n",
       "       '(case) payment_actual3', '(case) penalty_ABP', '(case) penalty_AGP',\n",
       "       '(case) penalty_AJLP', '(case) penalty_AUVP', '(case) penalty_AVBP',\n",
       "       '(case) penalty_AVGP', '(case) penalty_AVJLP', '(case) penalty_AVUVP',\n",
       "       '(case) penalty_B16', '(case) penalty_B2', '(case) penalty_B3',\n",
       "       '(case) penalty_B4', '(case) penalty_B5', '(case) penalty_B5F',\n",
       "       '(case) penalty_B6', '(case) penalty_BGK', '(case) penalty_BGKV',\n",
       "       '(case) penalty_BGP', '(case) penalty_C16', '(case) penalty_C4',\n",
       "       '(case) penalty_C9', '(case) penalty_CC', '(case) penalty_GP1',\n",
       "       '(case) penalty_JLP1', '(case) penalty_JLP2', '(case) penalty_JLP3',\n",
       "       '(case) penalty_JLP5', '(case) penalty_JLP6', '(case) penalty_JLP7',\n",
       "       '(case) penalty_V5', '(case) penalty_amount0', '(case) penalty_amount1',\n",
       "       '(case) penalty_amount2', '(case) penalty_amount3', '(case) program-id',\n",
       "       '(case) redistribution', '(case) rejected', '(case) risk_factor',\n",
       "       '(case) selected_manually', '(case) selected_random',\n",
       "       '(case) selected_risk', '(case) small farmer', '(case) year',\n",
       "       '(case) young farmer', 'activity', 'concept:name', 'docid', 'doctype',\n",
       "       'eventid', 'lifecycle:transition', 'note', 'subprocess', 'success',\n",
       "       'Late Payment'],\n",
       "      dtype='object')"
      ]
     },
     "execution_count": 8,
     "metadata": {},
     "output_type": "execute_result"
    }
   ],
   "source": [
    "uo1_full_unique_df.columns"
   ]
  },
  {
   "cell_type": "markdown",
   "metadata": {},
   "source": [
    "By taking a look at the BPI challenge document we can for sure drop values relative to the activity. Also we can drop values relative to the Variant as this won't be known prior to the prediction."
   ]
  },
  {
   "cell_type": "code",
   "execution_count": 9,
   "metadata": {
    "scrolled": false
   },
   "outputs": [
    {
     "data": {
      "text/plain": [
       "Index(['Case ID', 'Resource', '(case) amount_applied0',\n",
       "       '(case) amount_applied1', '(case) amount_applied2',\n",
       "       '(case) amount_applied3', '(case) applicant', '(case) application',\n",
       "       '(case) area', '(case) basic payment', '(case) cross_compliance',\n",
       "       '(case) department', '(case) greening', '(case) number_parcels',\n",
       "       '(case) payment_actual0', '(case) payment_actual1',\n",
       "       '(case) payment_actual2', '(case) payment_actual3',\n",
       "       '(case) penalty_ABP', '(case) penalty_AGP', '(case) penalty_AJLP',\n",
       "       '(case) penalty_AUVP', '(case) penalty_AVBP', '(case) penalty_AVGP',\n",
       "       '(case) penalty_AVJLP', '(case) penalty_AVUVP', '(case) penalty_B16',\n",
       "       '(case) penalty_B2', '(case) penalty_B3', '(case) penalty_B4',\n",
       "       '(case) penalty_B5', '(case) penalty_B5F', '(case) penalty_B6',\n",
       "       '(case) penalty_BGK', '(case) penalty_BGKV', '(case) penalty_BGP',\n",
       "       '(case) penalty_C16', '(case) penalty_C4', '(case) penalty_C9',\n",
       "       '(case) penalty_CC', '(case) penalty_GP1', '(case) penalty_JLP1',\n",
       "       '(case) penalty_JLP2', '(case) penalty_JLP3', '(case) penalty_JLP5',\n",
       "       '(case) penalty_JLP6', '(case) penalty_JLP7', '(case) penalty_V5',\n",
       "       '(case) penalty_amount0', '(case) penalty_amount1',\n",
       "       '(case) penalty_amount2', '(case) penalty_amount3', '(case) program-id',\n",
       "       '(case) redistribution', '(case) rejected', '(case) risk_factor',\n",
       "       '(case) selected_manually', '(case) selected_random',\n",
       "       '(case) selected_risk', '(case) small farmer', '(case) year',\n",
       "       '(case) young farmer', 'Late Payment'],\n",
       "      dtype='object')"
      ]
     },
     "execution_count": 9,
     "metadata": {},
     "output_type": "execute_result"
    }
   ],
   "source": [
    "cols_to_drop = ['Activity', 'Complete Timestamp','Variant','Variant index', 'activity', 'concept:name', 'docid', 'doctype','eventid', 'lifecycle:transition','note','subprocess', 'success']\n",
    "\n",
    "uo1_ready = uo1_full_unique_df.drop(cols_to_drop, axis='columns')\n",
    "\n",
    "uo1_ready.columns"
   ]
  },
  {
   "cell_type": "markdown",
   "metadata": {},
   "source": [
    "Now we will save the file and proceed to use RapidMiner to create predictions"
   ]
  },
  {
   "cell_type": "code",
   "execution_count": 10,
   "metadata": {},
   "outputs": [],
   "source": [
    "uo1_ready.to_csv('../data/uo1_ready.csv', index=False)"
   ]
  },
  {
   "cell_type": "markdown",
   "metadata": {},
   "source": [
    "![ml_1](../img/ml_1.png)"
   ]
  },
  {
   "cell_type": "markdown",
   "metadata": {},
   "source": [
    "We can see on a logarithmic scale that the dataset is heavy unbalanced, a simple approach would be to take all the true value and an equal (or multiplied by a little multiplier) number of random false values (based on how much data we have)."
   ]
  },
  {
   "cell_type": "code",
   "execution_count": 11,
   "metadata": {},
   "outputs": [],
   "source": [
    "uo1_ready_t = uo1_ready[uo1_ready['Late Payment'] == True]\n",
    "uo1_ready_f = uo1_ready[uo1_ready['Late Payment'] == False]\n",
    "\n",
    "uo1_read_f_sampled = uo1_ready_f.sample(len(uo1_ready_t) * 2, random_state=1337)\n",
    "\n",
    "uo1_balanced = pd.concat([uo1_read_f_sampled, uo1_ready_t])\n",
    "\n",
    "uo1_balanced.to_csv('../data/uo1_ready_balanced.csv', index=False)"
   ]
  },
  {
   "cell_type": "markdown",
   "metadata": {},
   "source": [
    "Now we are ready to proceed to create a machine learning model using RapidMiner."
   ]
  },
  {
   "cell_type": "markdown",
   "metadata": {},
   "source": [
    "Applying some basic data cleaning and feature selection we end up with the following results:\n",
    "![ml_2](../img/ml_2.png)"
   ]
  },
  {
   "cell_type": "markdown",
   "metadata": {},
   "source": [
    "The best model overall was Decision Tree and the model is the following:"
   ]
  },
  {
   "cell_type": "markdown",
   "metadata": {},
   "source": [
    "![ml_3](../img/ml_3.png)"
   ]
  },
  {
   "cell_type": "markdown",
   "metadata": {},
   "source": [
    "We can see that the best predictors for the undesidered outcome 1 are the payments, this is a useful insight for future applies."
   ]
  },
  {
   "cell_type": "markdown",
   "metadata": {},
   "source": [
    "## Undesidered outcome 2"
   ]
  },
  {
   "cell_type": "markdown",
   "metadata": {},
   "source": [
    "To find undesidered outcome 2 we just need to check if the case has an objection or change activity.\n",
    "Also we can't use as predictors the payment_actual columns as they are calculated after the undesidered outcome.\n",
    "We also won't use 2017 data for training because we don't know if it will be changed or objected."
   ]
  },
  {
   "cell_type": "code",
   "execution_count": 12,
   "metadata": {},
   "outputs": [],
   "source": [
    "c2015 = df['(case) year'] == 2015\n",
    "c2016 = df['(case) year'] == 2016\n",
    "df_no2017 = df[c2015 | c2016]"
   ]
  },
  {
   "cell_type": "markdown",
   "metadata": {},
   "source": [
    "After discarding year 2017 we can isolate cases that have objection or change just by leaving only those activity types and removing ID duplicates"
   ]
  },
  {
   "cell_type": "code",
   "execution_count": 13,
   "metadata": {},
   "outputs": [],
   "source": [
    "subprocesses = ['Objection', 'Change']\n",
    "\n",
    "filter_mask = df_no2017['subprocess'].isin(subprocesses)\n",
    "\n",
    "df_objchg = df_no2017[filter_mask]\n",
    "\n",
    "df_objchg_unique= df_objchg.drop_duplicates(subset='Case ID')"
   ]
  },
  {
   "cell_type": "markdown",
   "metadata": {},
   "source": [
    "All these cases are reopened we set them to True"
   ]
  },
  {
   "cell_type": "code",
   "execution_count": 14,
   "metadata": {},
   "outputs": [
    {
     "name": "stderr",
     "output_type": "stream",
     "text": [
      "C:\\Users\\miche\\Anaconda3\\envs\\pmproject\\lib\\site-packages\\ipykernel_launcher.py:1: SettingWithCopyWarning: \n",
      "A value is trying to be set on a copy of a slice from a DataFrame.\n",
      "Try using .loc[row_indexer,col_indexer] = value instead\n",
      "\n",
      "See the caveats in the documentation: http://pandas.pydata.org/pandas-docs/stable/user_guide/indexing.html#returning-a-view-versus-a-copy\n",
      "  \"\"\"Entry point for launching an IPython kernel.\n"
     ]
    }
   ],
   "source": [
    "df_objchg_unique['Reopened'] = True\n",
    "uo2_vals = df_objchg_unique[['Case ID', 'Reopened']]"
   ]
  },
  {
   "cell_type": "markdown",
   "metadata": {},
   "source": [
    "Then we join this dataset with the NO 2017 dataset and fill the missing values with False (they don't have objection or change)"
   ]
  },
  {
   "cell_type": "code",
   "execution_count": 15,
   "metadata": {},
   "outputs": [
    {
     "data": {
      "text/plain": [
       "False    24709\n",
       "True      4593\n",
       "Name: Reopened, dtype: int64"
      ]
     },
     "execution_count": 15,
     "metadata": {},
     "output_type": "execute_result"
    }
   ],
   "source": [
    "uo2_df_raw = pd.merge(df_no2017, uo2_vals, on='Case ID', how='left')\n",
    "uo2_df_raw['Reopened'] = uo2_df_raw['Reopened'].fillna(False)\n",
    "\n",
    "uo2_df_unique = uo2_df_raw.drop_duplicates(subset='Case ID')\n",
    "uo2_df_unique['Reopened'].value_counts()"
   ]
  },
  {
   "cell_type": "markdown",
   "metadata": {},
   "source": [
    "We can see that the dataset is unbalanced, in this case we will use the same number of data for both True and False.\n"
   ]
  },
  {
   "cell_type": "code",
   "execution_count": 16,
   "metadata": {},
   "outputs": [],
   "source": [
    "uo2_t = uo2_df_unique[uo2_df_unique['Reopened'] == True]\n",
    "uo2_f = uo2_df_unique[uo2_df_unique['Reopened'] == False]\n",
    "\n",
    "uo2_f_sampled = uo2_f.sample(len(uo2_t), random_state=1337)\n",
    "\n",
    "uo2_full_df = pd.concat([uo2_t, uo2_f_sampled])\n",
    "\n",
    "uo2_full_df.to_csv('../data/uo2_full.csv', index=False)"
   ]
  },
  {
   "cell_type": "markdown",
   "metadata": {},
   "source": [
    "Let's clean and create models using RapidMiner"
   ]
  },
  {
   "cell_type": "markdown",
   "metadata": {},
   "source": [
    "These are the model results:"
   ]
  },
  {
   "cell_type": "markdown",
   "metadata": {},
   "source": [
    "![ml2_1](../img/ml2_1.png)"
   ]
  },
  {
   "cell_type": "markdown",
   "metadata": {},
   "source": [
    "And these are the weights of the Generalized Linear model (which performed the best)"
   ]
  },
  {
   "cell_type": "markdown",
   "metadata": {},
   "source": [
    "![ml2_2](../img/ml2_2.png)"
   ]
  },
  {
   "cell_type": "code",
   "execution_count": null,
   "metadata": {},
   "outputs": [],
   "source": []
  }
 ],
 "metadata": {
  "kernelspec": {
   "display_name": "Python 3",
   "language": "python",
   "name": "python3"
  },
  "language_info": {
   "codemirror_mode": {
    "name": "ipython",
    "version": 3
   },
   "file_extension": ".py",
   "mimetype": "text/x-python",
   "name": "python",
   "nbconvert_exporter": "python",
   "pygments_lexer": "ipython3",
   "version": "3.7.4"
  }
 },
 "nbformat": 4,
 "nbformat_minor": 2
}
